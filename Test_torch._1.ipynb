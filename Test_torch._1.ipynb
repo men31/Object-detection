{
 "cells": [
  {
   "cell_type": "code",
   "execution_count": 34,
   "metadata": {},
   "outputs": [],
   "source": [
    "import torch\n",
    "import cv2\n",
    "import numpy as np\n",
    "from IoU import intersection_over_union\n",
    "import matplotlib.pyplot as plt"
   ]
  },
  {
   "cell_type": "code",
   "execution_count": 30,
   "metadata": {},
   "outputs": [],
   "source": [
    "def non_max_suppression(bboxes, iou_thershold, prob_thershold, bbox_format='corner'):\n",
    "    D = []\n",
    "    bboxes = [a_bbox.numpy() for a_bbox in bboxes if a_bbox[0] > prob_thershold]\n",
    "    bboxes = torch.from_numpy(np.array(sorted(bboxes, key=lambda x : x[0], reverse=True)))\n",
    "    r = 1\n",
    "    while bboxes.shape[0] > 0:\n",
    "        print('Round:', r)\n",
    "        print('BBox size:', bboxes.shape)\n",
    "        max_prob_bbox = bboxes[0]\n",
    "        dummy_bboxes = bboxes[1:]\n",
    "        bboxes = dummy_bboxes\n",
    "        max_prob_bbox_arr = torch.mul(torch.ones((bboxes.shape[0], 1)), max_prob_bbox)\n",
    "        nms_idx = intersection_over_union(max_prob_bbox_arr[..., 1:], bboxes[..., 1:], bbox_format=bbox_format) < iou_thershold\n",
    "        bboxes = bboxes[nms_idx.squeeze()].squeeze(axis=1)\n",
    "        print('BBox:', bboxes)\n",
    "        r += 1\n",
    "        D.append(max_prob_bbox)\n",
    "        print('-------------------------------')\n",
    "    return D"
   ]
  },
  {
   "cell_type": "code",
   "execution_count": 31,
   "metadata": {},
   "outputs": [],
   "source": [
    "bboxes = torch.Tensor([[0.9, 1, 1, 5, 6], [0.8, 2, 1, 3, 3], [0.4, 4, 4, 8, 6], [0.7, 3, 3, 6, 6]])\n",
    "iou_thershold = 0.5\n",
    "prob_thershold = 0.5"
   ]
  },
  {
   "cell_type": "code",
   "execution_count": 32,
   "metadata": {},
   "outputs": [
    {
     "name": "stdout",
     "output_type": "stream",
     "text": [
      "Round: 1\n",
      "BBox size: torch.Size([3, 5])\n",
      "BBox: tensor([[0.8000, 2.0000, 1.0000, 3.0000, 3.0000],\n",
      "        [0.7000, 3.0000, 3.0000, 6.0000, 6.0000]])\n",
      "-------------------------------\n",
      "Round: 2\n",
      "BBox size: torch.Size([2, 5])\n",
      "BBox: tensor([[0.7000, 3.0000, 3.0000, 6.0000, 6.0000]])\n",
      "-------------------------------\n",
      "Round: 3\n",
      "BBox size: torch.Size([1, 5])\n",
      "BBox: tensor([], size=(0, 5))\n",
      "-------------------------------\n"
     ]
    },
    {
     "data": {
      "text/plain": [
       "[tensor([0.9000, 1.0000, 1.0000, 5.0000, 6.0000]),\n",
       " tensor([0.8000, 2.0000, 1.0000, 3.0000, 3.0000]),\n",
       " tensor([0.7000, 3.0000, 3.0000, 6.0000, 6.0000])]"
      ]
     },
     "execution_count": 32,
     "metadata": {},
     "output_type": "execute_result"
    }
   ],
   "source": [
    "D = non_max_suppression(bboxes, iou_thershold, prob_thershold)\n",
    "D"
   ]
  },
  {
   "cell_type": "code",
   "execution_count": 63,
   "metadata": {},
   "outputs": [
    {
     "ename": "AttributeError",
     "evalue": "attribute 'dtype' of 'torch._C._TensorBase' objects is not writable",
     "output_type": "error",
     "traceback": [
      "\u001b[1;31m---------------------------------------------------------------------------\u001b[0m",
      "\u001b[1;31mAttributeError\u001b[0m                            Traceback (most recent call last)",
      "\u001b[1;32m~\\AppData\\Local\\Temp\\ipykernel_10368\\2949954682.py\u001b[0m in \u001b[0;36m<module>\u001b[1;34m\u001b[0m\n\u001b[1;32m----> 1\u001b[1;33m \u001b[0mD\u001b[0m\u001b[1;33m[\u001b[0m\u001b[1;36m0\u001b[0m\u001b[1;33m]\u001b[0m\u001b[1;33m.\u001b[0m\u001b[0mdtype\u001b[0m \u001b[1;33m=\u001b[0m \u001b[0mtorch\u001b[0m\u001b[1;33m.\u001b[0m\u001b[0mint16\u001b[0m\u001b[1;33m\u001b[0m\u001b[1;33m\u001b[0m\u001b[0m\n\u001b[0m",
      "\u001b[1;31mAttributeError\u001b[0m: attribute 'dtype' of 'torch._C._TensorBase' objects is not writable"
     ]
    }
   ],
   "source": [
    "D[0].dtype = torch.int16"
   ]
  },
  {
   "cell_type": "code",
   "execution_count": 66,
   "metadata": {},
   "outputs": [
    {
     "name": "stdout",
     "output_type": "stream",
     "text": [
      "(1, 1) (5, 6)\n",
      "(2, 1) (3, 3)\n",
      "(3, 3) (6, 6)\n"
     ]
    },
    {
     "data": {
      "text/plain": [
       "<matplotlib.image.AxesImage at 0x21d0f2f9b80>"
      ]
     },
     "execution_count": 66,
     "metadata": {},
     "output_type": "execute_result"
    },
    {
     "data": {
      "image/png": "[encoded data removed]",
      "text/plain": [
       "<Figure size 640x480 with 1 Axes>"
      ]
     },
     "metadata": {},
     "output_type": "display_data"
    }
   ],
   "source": [
    "plain_img = (np.ones((10, 10, 3)) * 255).astype(np.uint8)\n",
    "\n",
    "color = (0, 0, 255) # BGR format\n",
    "thickness = 1\n",
    "for a_bbox in D:\n",
    "    a_bbox = a_bbox.to(torch.int16).numpy()\n",
    "    start_point = (a_bbox[1], a_bbox[2])\n",
    "    end_point = (a_bbox[3], a_bbox[4])\n",
    "    print(start_point, end_point)\n",
    "    plain_img = cv2.rectangle(plain_img, start_point, end_point, color, thickness)\n",
    "plt.imshow(plain_img)"
   ]
  },
  {
   "cell_type": "code",
   "execution_count": 4,
   "metadata": {},
   "outputs": [],
   "source": [
    "bboxes = [a_bbox.numpy() for a_bbox in bboxes if a_bbox[0] > prob_thershold]\n",
    "bboxes = torch.from_numpy(np.array(sorted(bboxes, key=lambda x : x[0], reverse=True)))"
   ]
  },
  {
   "cell_type": "code",
   "execution_count": 5,
   "metadata": {},
   "outputs": [
    {
     "data": {
      "text/plain": [
       "tensor([[0.9000, 1.0000, 1.0000, 5.0000, 6.0000],\n",
       "        [0.8000, 2.0000, 1.0000, 3.0000, 3.0000],\n",
       "        [0.7000, 3.0000, 3.0000, 6.0000, 6.0000]])"
      ]
     },
     "execution_count": 5,
     "metadata": {},
     "output_type": "execute_result"
    }
   ],
   "source": [
    "bboxes"
   ]
  },
  {
   "cell_type": "code",
   "execution_count": 6,
   "metadata": {},
   "outputs": [],
   "source": [
    "max_prob_bbox = bboxes[0]\n",
    "dummy_bboxes = bboxes[1:]\n",
    "bboxes = dummy_bboxes\n",
    "# print(np.ones((bboxes.shape[0], 1)) @ max_prob_bbox[np.newaxis, 1:])\n",
    "max_prob_bbox_arr = torch.mul(torch.ones((bboxes.shape[0], 1)), max_prob_bbox)"
   ]
  },
  {
   "cell_type": "code",
   "execution_count": 7,
   "metadata": {},
   "outputs": [
    {
     "data": {
      "text/plain": [
       "tensor([[0.9000, 1.0000, 1.0000, 5.0000, 6.0000],\n",
       "        [0.9000, 1.0000, 1.0000, 5.0000, 6.0000]])"
      ]
     },
     "execution_count": 7,
     "metadata": {},
     "output_type": "execute_result"
    }
   ],
   "source": [
    "max_prob_bbox_arr"
   ]
  },
  {
   "cell_type": "code",
   "execution_count": 8,
   "metadata": {},
   "outputs": [
    {
     "data": {
      "text/plain": [
       "tensor([[0.8000, 2.0000, 1.0000, 3.0000, 3.0000],\n",
       "        [0.7000, 3.0000, 3.0000, 6.0000, 6.0000]])"
      ]
     },
     "execution_count": 8,
     "metadata": {},
     "output_type": "execute_result"
    }
   ],
   "source": [
    "bboxes"
   ]
  },
  {
   "cell_type": "code",
   "execution_count": 16,
   "metadata": {},
   "outputs": [
    {
     "data": {
      "text/plain": [
       "tensor([[True],\n",
       "        [True]])"
      ]
     },
     "execution_count": 16,
     "metadata": {},
     "output_type": "execute_result"
    }
   ],
   "source": [
    "result = intersection_over_union(max_prob_bbox_arr[..., 1:], bboxes[..., 1:], bbox_format='corner') < iou_thershold\n",
    "result"
   ]
  },
  {
   "cell_type": "code",
   "execution_count": 17,
   "metadata": {},
   "outputs": [
    {
     "data": {
      "text/plain": [
       "tensor([[0.8000, 2.0000, 1.0000, 3.0000, 3.0000],\n",
       "        [0.7000, 3.0000, 3.0000, 6.0000, 6.0000]])"
      ]
     },
     "execution_count": 17,
     "metadata": {},
     "output_type": "execute_result"
    }
   ],
   "source": [
    "bboxes[result.squeeze()]"
   ]
  },
  {
   "cell_type": "code",
   "execution_count": null,
   "metadata": {},
   "outputs": [],
   "source": []
  }
 ],
 "metadata": {
  "kernelspec": {
   "display_name": "base",
   "language": "python",
   "name": "python3"
  },
  "language_info": {
   "codemirror_mode": {
    "name": "ipython",
    "version": 3
   },
   "file_extension": ".py",
   "mimetype": "text/x-python",
   "name": "python",
   "nbconvert_exporter": "python",
   "pygments_lexer": "ipython3",
   "version": "3.9.13"
  },
  "orig_nbformat": 4
 },
 "nbformat": 4,
 "nbformat_minor": 2
}
