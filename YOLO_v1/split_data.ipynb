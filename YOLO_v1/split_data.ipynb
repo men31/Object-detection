{
 "cells": [
  {
   "cell_type": "code",
   "execution_count": 34,
   "metadata": {},
   "outputs": [],
   "source": [
    "import pandas as pd\n",
    "import os\n",
    "import sys\n",
    "import shutil"
   ]
  },
  {
   "cell_type": "code",
   "execution_count": 2,
   "metadata": {},
   "outputs": [
    {
     "data": {
      "text/html": [
       "<div>\n",
       "<style scoped>\n",
       "    .dataframe tbody tr th:only-of-type {\n",
       "        vertical-align: middle;\n",
       "    }\n",
       "\n",
       "    .dataframe tbody tr th {\n",
       "        vertical-align: top;\n",
       "    }\n",
       "\n",
       "    .dataframe thead th {\n",
       "        text-align: right;\n",
       "    }\n",
       "</style>\n",
       "<table border=\"1\" class=\"dataframe\">\n",
       "  <thead>\n",
       "    <tr style=\"text-align: right;\">\n",
       "      <th></th>\n",
       "      <th>image</th>\n",
       "      <th>text</th>\n",
       "    </tr>\n",
       "  </thead>\n",
       "  <tbody>\n",
       "    <tr>\n",
       "      <th>0</th>\n",
       "      <td>000007.jpg</td>\n",
       "      <td>000007.txt</td>\n",
       "    </tr>\n",
       "    <tr>\n",
       "      <th>1</th>\n",
       "      <td>000026.jpg</td>\n",
       "      <td>000026.txt</td>\n",
       "    </tr>\n",
       "    <tr>\n",
       "      <th>2</th>\n",
       "      <td>000032.jpg</td>\n",
       "      <td>000032.txt</td>\n",
       "    </tr>\n",
       "    <tr>\n",
       "      <th>3</th>\n",
       "      <td>000033.jpg</td>\n",
       "      <td>000033.txt</td>\n",
       "    </tr>\n",
       "    <tr>\n",
       "      <th>4</th>\n",
       "      <td>000034.jpg</td>\n",
       "      <td>000034.txt</td>\n",
       "    </tr>\n",
       "  </tbody>\n",
       "</table>\n",
       "</div>"
      ],
      "text/plain": [
       "        image        text\n",
       "0  000007.jpg  000007.txt\n",
       "1  000026.jpg  000026.txt\n",
       "2  000032.jpg  000032.txt\n",
       "3  000033.jpg  000033.txt\n",
       "4  000034.jpg  000034.txt"
      ]
     },
     "execution_count": 2,
     "metadata": {},
     "output_type": "execute_result"
    }
   ],
   "source": [
    "file_path = './data/100examples.csv'\n",
    "data_file = pd.read_csv(file_path)\n",
    "data_file.head()"
   ]
  },
  {
   "cell_type": "code",
   "execution_count": 3,
   "metadata": {},
   "outputs": [
    {
     "data": {
      "text/plain": [
       "RangeIndex(start=0, stop=103, step=1)"
      ]
     },
     "execution_count": 3,
     "metadata": {},
     "output_type": "execute_result"
    }
   ],
   "source": [
    "data_file.index"
   ]
  },
  {
   "cell_type": "code",
   "execution_count": 48,
   "metadata": {},
   "outputs": [],
   "source": [
    "img_dir = './data/images/'\n",
    "label_dir = './data/labels/'\n",
    "def copy_paste(df_file, column_name, src, dst, same_dir):\n",
    "    i = 0\n",
    "    for idx in df_file.index:\n",
    "        name = df_file[column_name].iloc[idx]\n",
    "        source = os.path.join(os.getcwd(), src, same_dir, name)\n",
    "        destination = os.path.join(os.getcwd(), dst, same_dir, name)\n",
    "        if os.path.isfile(source):\n",
    "            i += 1\n",
    "            shutil.copy(source, destination)\n",
    "            # os.system('cp' + os.path.join(os.getcwd(), src, same_dir, name) + '' + os.path.join(os.getcwd(), dst, same_dir, name))\n",
    "        else:\n",
    "            print('Not Found:', name)\n",
    "    print('Successed', i)"
   ]
  },
  {
   "cell_type": "code",
   "execution_count": 49,
   "metadata": {},
   "outputs": [
    {
     "name": "stdout",
     "output_type": "stream",
     "text": [
      "Successed 103\n"
     ]
    }
   ],
   "source": [
    "copy_paste(data_file, 'image', 'data', 'split_data', 'images')"
   ]
  },
  {
   "cell_type": "code",
   "execution_count": 41,
   "metadata": {},
   "outputs": [
    {
     "name": "stdout",
     "output_type": "stream",
     "text": [
      "Successed\n"
     ]
    }
   ],
   "source": [
    "copy_paste(data_file, 'text', 'data', 'split_data', 'labels')"
   ]
  },
  {
   "cell_type": "code",
   "execution_count": null,
   "metadata": {},
   "outputs": [],
   "source": []
  }
 ],
 "metadata": {
  "kernelspec": {
   "display_name": "base",
   "language": "python",
   "name": "python3"
  },
  "language_info": {
   "codemirror_mode": {
    "name": "ipython",
    "version": 3
   },
   "file_extension": ".py",
   "mimetype": "text/x-python",
   "name": "python",
   "nbconvert_exporter": "python",
   "pygments_lexer": "ipython3",
   "version": "3.9.13"
  },
  "orig_nbformat": 4
 },
 "nbformat": 4,
 "nbformat_minor": 2
}
